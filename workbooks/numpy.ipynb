{
 "cells": [
  {
   "cell_type": "markdown",
   "metadata": {},
   "source": [
    "# `numpy` 学习簿"
   ]
  },
  {
   "cell_type": "markdown",
   "metadata": {},
   "source": [
    "`numpy` 是 Python 最重要的第三方库，说它定义了今天 Python 的生态也不算过分。\n",
    "\n",
    "`numpy` 这个名字是 _Numerical Python_ 的缩写（这种 _-py_ 的命名方式后来也被被很多重要的 Python 包使用），它提供了高性能的多维数组对象以及相关工具。它的核心是多维数组对象 `ndarray`，一个快速而灵活的大数据集容器。\n",
    "\n",
    "`numpy` 是开源软件包，其开源许可协议为相当宽松的 BSD 许可证。`numpy` 的开发始于 2005 年，最早由 Travis Oliphant 在 Jim Hugunin 开发的 `Numeric` 和 Todd Miller 开发的 `numarray` 库基础上创建。Oliphant 为 `numpy` 制订了非常明确的设计目标，就是为 Python 中的科学计算提供一个强大的基础库。这个项目很快成为 Python 科学计算领域的标准库，并且由于其底层是用 C 语言编写的，因此在性能上远超纯 Python 代码。\n",
    "\n",
    "Travis Oliphant 的英明决定极大推动了 Python 在科学计算领域的发展，使 Python 成为了数据分析和科学研究的重要工具之一，并在最近一波以机器学习技术为代表的人工智能技术发展中顺理成章地成为事实上的标准工具链重要一环。\n",
    "\n",
    "顺便，Travis Oliphant还是科学计算软件包 `scipy` 的创始人之一，`scipy` 是 `numpy` 的补充，提供了更多的科学计算工具。他还创办了 Continuum Analytics 公司，开发了 `Anaconda` 发行版，这是一个非常流行的 Python 数据科学工具包集合。\n",
    "\n",
    "下面是 `numpy` 的主要功能及特点：\n",
    "\n",
    "- 多维数组对象（ndarray）：一个高效的多维数组对象，它支持复杂的广播功能和对数组数据进行快速操作。\n",
    "- 数学函数集合：`numpy` 提供了一系列数学函数，可以对整个数组或数组的特定部分进行运算，包括线性代数运算、傅里叶变换、随机数生成等。\n",
    "- 集成 C/C++ 和 Fortran 代码的能力：`numpy` 可以调用 C/C++ 和 Fortran 代码，这使得计算速度得到了极大的提升。\n",
    "- 用于集成其他语言的高级数据操作：`numpy` 提供了与多种数据库进行数据交换的接口，方便与其他编程语言和工具集成。\n",
    "- 强大的广播机制：`numpy` 的广播机制允许在不同的数组之间进行算术运算，即使它们的形状不完全相同。\n",
    "- 高效的性能：由于其底层是用 C 语言编写的，`numpy` 在数组操作上比纯 Python 代码要快很多。\n",
    "- 用于存储和处理大型数据集的工具：`numpy` 可以处理远超过常规 Python 列表所能处理的大型数据集。\n",
    "- `numpy` 是许多高级工具和库的基础，例如 `pandas` `matplotlib` `scipy` `scikit-learn` `pytorch` 等，它们都依赖于 `numpy` 的数组数据结构和相关功能来执行高效的计算。\n",
    "\n",
    "这份工作簿将带你快速入门 `numpy`，并带你了解 `numpy` 的基本功能和用法。而 `numpy` 更高级的特性可能需要你自己在应用过程中去深入学习，这里只是一个开始。\n",
    "\n",
    "注意：本工作簿假定你对 Python 有一定的了解，如果你是 Python 初学者，建议先学习 Python 基础知识，比如通过我们的[编程思维与实践](https://github.com/neolee/wop)课程前半部分。"
   ]
  },
  {
   "cell_type": "markdown",
   "metadata": {},
   "source": [
    "## 准备"
   ]
  },
  {
   "cell_type": "markdown",
   "metadata": {},
   "source": [
    "你可以通过 `pip` 来安装 `numpy`：\n",
    "```bash\n",
    "pip install numpy\n",
    "```\n",
    "然后就可以在你的程序中引入 `numpy` 库："
   ]
  },
  {
   "cell_type": "code",
   "execution_count": null,
   "metadata": {},
   "outputs": [],
   "source": [
    "import numpy as np"
   ]
  },
  {
   "cell_type": "markdown",
   "metadata": {},
   "source": [
    "下面所有的操作都假定你已经完成了上面两步。\n",
    "\n",
    "作为开始，我们先用 `numpy` 来复习一下 **向量**（*vector*）和 **矩阵**（*matrix*） 的概念和基本操作。"
   ]
  },
  {
   "cell_type": "markdown",
   "metadata": {},
   "source": [
    "## 向量（*vector*）"
   ]
  },
  {
   "cell_type": "markdown",
   "metadata": {},
   "source": [
    "最简单的一维数组就是向量，它只有一个维度，可以看作是一个有序的数列。在 `numpy` 中，向量是一个一维的 `ndarray` 数组对象。"
   ]
  },
  {
   "cell_type": "code",
   "execution_count": null,
   "metadata": {},
   "outputs": [],
   "source": [
    "x = np.array([1.0, 2.0, 3.0])"
   ]
  },
  {
   "cell_type": "code",
   "execution_count": null,
   "metadata": {},
   "outputs": [],
   "source": [
    "print(x)\n",
    "print(x[0], x[1], x[2])\n",
    "print(type(x))"
   ]
  },
  {
   "cell_type": "markdown",
   "metadata": {},
   "source": [
    "在 `numpy` 中 `ndim` 属性和函数 `np.ndim()` 都能取得数组的**维度**（或者**秩**），`shape` 表示数组的**形状**，即每个维度上的元素个数；`dtype` 则表示数组的数据类型。"
   ]
  },
  {
   "cell_type": "code",
   "execution_count": null,
   "metadata": {},
   "outputs": [],
   "source": [
    "print(np.ndim(x))\n",
    "print(x.ndim)\n",
    "print(x.shape)\n",
    "print(x.shape[0])\n",
    "print(x.dtype)"
   ]
  },
  {
   "cell_type": "markdown",
   "metadata": {},
   "source": [
    "我们可以通过 `astype()` 方法来改变整个数组（即所有元素）的数据类型。"
   ]
  },
  {
   "cell_type": "code",
   "execution_count": null,
   "metadata": {},
   "outputs": [],
   "source": [
    "x1 = x.astype(np.float32)\n",
    "print(x1)\n",
    "print(x1.dtype)"
   ]
  },
  {
   "cell_type": "markdown",
   "metadata": {},
   "source": [
    "当然我们也可以在创建时就指定数组的数据类型。"
   ]
  },
  {
   "cell_type": "code",
   "execution_count": null,
   "metadata": {},
   "outputs": [],
   "source": [
    "x2 = np.array([1, 2, 3], dtype=np.float32)\n",
    "print(x2)"
   ]
  },
  {
   "cell_type": "markdown",
   "metadata": {},
   "source": [
    "### 向量间运算"
   ]
  },
  {
   "cell_type": "markdown",
   "metadata": {},
   "source": [
    "`numpy` 的数组对象支持向量间的基本运算，比如加减乘除等。"
   ]
  },
  {
   "cell_type": "code",
   "execution_count": null,
   "metadata": {},
   "outputs": [],
   "source": [
    "y = np.array([2.0, 4.0, 6.0])\n",
    "print(x + y)\n",
    "print(x - y)\n",
    "print(x * y)\n",
    "print(x / y)"
   ]
  },
  {
   "cell_type": "markdown",
   "metadata": {},
   "source": [
    "这些基本运算符都有等价的函数版本：`+` 对应 `np.add()`，`-` 对应 `np.subtract()`，`*` 对应 `np.multiply()`，`/` 对应 `np.divide()`。"
   ]
  },
  {
   "cell_type": "code",
   "execution_count": null,
   "metadata": {},
   "outputs": [],
   "source": [
    "print(np.add(x, y))\n",
    "print(np.subtract(x, y))\n",
    "print(np.multiply(x, y))\n",
    "print(np.divide(x, y))"
   ]
  },
  {
   "cell_type": "markdown",
   "metadata": {},
   "source": [
    "上面的乘法需要进一步的说明。实际上在线性代数中两个向量之间有两种乘法，上面那个由各个元素对应相乘组成一个新向量的乘法叫“叉积（*cross product*）”，一般用 $a\\times b$ 表示；而更常用的两个向量或两个矩阵或矩阵和向量之间的乘法叫“点积（*dot product*）”，通常用 $a\\cdot b$ 表示，一般地，有下面的公式。"
   ]
  },
  {
   "cell_type": "markdown",
   "metadata": {},
   "source": [
    "$$x = \\begin{pmatrix} a_{1} & a_{2} & a_{3} \\end{pmatrix}$$\n",
    "\n",
    "$$y = \\begin{pmatrix} b_{1} & b_{2} & b_{3} \\end{pmatrix}$$\n",
    "\n",
    "$$x \\cdot y = a_{1}b_{1} + a_{2}b_{2} + a_{3}b_{3}$$"
   ]
  },
  {
   "cell_type": "markdown",
   "metadata": {},
   "source": [
    "`numpy` 当然也支持这种点积运算。"
   ]
  },
  {
   "cell_type": "code",
   "execution_count": null,
   "metadata": {},
   "outputs": [],
   "source": [
    "print(x.dot(y))\n",
    "print(np.dot(x, y))"
   ]
  },
  {
   "cell_type": "markdown",
   "metadata": {},
   "source": [
    "### 向量和标量间运算（*broadcasting*）"
   ]
  },
  {
   "cell_type": "markdown",
   "metadata": {},
   "source": [
    "`numpy` 的数组对象有个强大的功能，就是支持向量和标量之间的运算！这个能力其实是 `numpy` 自动帮你把标量扩张成合适大小（形状）的向量，然后再按照向量间运算的方式处理，这种处理叫做“广播（*broadcasting*）”。`numpy` 把这种“广播”做的非常好，让你可以不用关心向量和标量的形状是否匹配，而又能与数学上的运算规则保持一致，非常的方便。我们后面还会详细介绍这个功能，这里我们先稍微体验一下。"
   ]
  },
  {
   "cell_type": "code",
   "execution_count": null,
   "metadata": {},
   "outputs": [],
   "source": [
    "print(x + 2.0)\n",
    "print(x * 2.0)\n",
    "print(x / 2.0)"
   ]
  },
  {
   "cell_type": "markdown",
   "metadata": {},
   "source": [
    "上面的运算实质上等价于下面的写法，但是简洁太多了。"
   ]
  },
  {
   "cell_type": "code",
   "execution_count": null,
   "metadata": {},
   "outputs": [],
   "source": [
    "print(x + np.array([2.0, 2.0, 2.0]))\n",
    "print(x * np.array([2.0, 2.0, 2.0]))\n",
    "print(x / np.array([2.0, 2.0, 2.0]))"
   ]
  },
  {
   "cell_type": "markdown",
   "metadata": {},
   "source": [
    "`numpy` 的广播功能不局限于向量和标量之间的运算，它还支持更多情况，比如两个不同形状的数组之间的运算，我们后面会详细介绍。"
   ]
  },
  {
   "cell_type": "markdown",
   "metadata": {},
   "source": [
    "## 矩阵（*matrix*）"
   ]
  },
  {
   "cell_type": "markdown",
   "metadata": {},
   "source": [
    "矩阵其实就是二维的数组，它有行和列两个维度。在 `numpy` 中，则对应二维的 `ndarray` 数组对象。"
   ]
  },
  {
   "cell_type": "code",
   "execution_count": null,
   "metadata": {},
   "outputs": [],
   "source": [
    "A = np.array([[1, 2, 3], [4, 5, 6]])\n",
    "print(A)"
   ]
  },
  {
   "cell_type": "code",
   "execution_count": null,
   "metadata": {},
   "outputs": [],
   "source": [
    "print(A.ndim)\n",
    "print(A.shape)\n",
    "print(A.shape[0])\n",
    "print(A.dtype)\n",
    "print(A[1])\n",
    "print(A[1][0])"
   ]
  },
  {
   "cell_type": "code",
   "execution_count": null,
   "metadata": {},
   "outputs": [],
   "source": [
    "for row in A:\n",
    "    print(row)"
   ]
  },
  {
   "cell_type": "markdown",
   "metadata": {},
   "source": [
    "### 矩阵间运算"
   ]
  },
  {
   "cell_type": "code",
   "execution_count": null,
   "metadata": {},
   "outputs": [],
   "source": [
    "B = np.array([[0.1, 0.2, 0.3], [0.1, 0.2, 0.3]])"
   ]
  },
  {
   "cell_type": "code",
   "execution_count": null,
   "metadata": {},
   "outputs": [],
   "source": [
    "print(A + B)\n",
    "print(np.add(A, B))"
   ]
  },
  {
   "cell_type": "code",
   "execution_count": null,
   "metadata": {},
   "outputs": [],
   "source": [
    "print(A * B)\n",
    "print(np.multiply(A, B))"
   ]
  },
  {
   "cell_type": "markdown",
   "metadata": {},
   "source": [
    "### 矩阵与标量间运算（*broadcasting*）"
   ]
  },
  {
   "cell_type": "markdown",
   "metadata": {},
   "source": [
    "`numpy` 的广播功能同样适用于矩阵和标量之间的运算。"
   ]
  },
  {
   "cell_type": "code",
   "execution_count": null,
   "metadata": {},
   "outputs": [],
   "source": [
    "print(A * 10)"
   ]
  },
  {
   "cell_type": "markdown",
   "metadata": {},
   "source": [
    "就好像运行了下面的代码一样，这里使用了 `np.full()` 函数来创建一个指定形状并用一个数填充满的数组。"
   ]
  },
  {
   "cell_type": "code",
   "execution_count": null,
   "metadata": {},
   "outputs": [],
   "source": [
    "print(A * np.full((2, 3), 10))"
   ]
  },
  {
   "cell_type": "markdown",
   "metadata": {},
   "source": [
    "### 矩阵间点积"
   ]
  },
  {
   "cell_type": "markdown",
   "metadata": {},
   "source": [
    "矩阵之间自然也有点积运算，其规则比向量点积要复杂一些：第一个矩阵的列数必须等于第二个矩阵的行数，结果矩阵的行数等于第一个矩阵的行数，列数等于第二个矩阵的列数。矩阵点积的一个例子如下，我们这里把做点积运算的两个矩阵分别写成行向量和列向量的形式，更容易理解矩阵点积的规则。"
   ]
  },
  {
   "cell_type": "markdown",
   "metadata": {},
   "source": [
    "$$Let\\quad A = \\begin{pmatrix} a_{11} & a_{12} & a_{13} \\\\ a_{21} & a_{22} & a_{23} \\end{pmatrix} = \\begin{pmatrix} \\vec{a_{1}} \\\\ \\vec{a_{2}} \\end{pmatrix}$$\n",
    "\n",
    "$$B = \\begin{pmatrix} b_{11} & b_{12} \\\\ b_{21} & b_{22} \\\\ b_{31} & b_{32} \\end{pmatrix} = \\begin{pmatrix} \\vec{b_{1}} & \\vec{b_{2}} \\end{pmatrix}$$\n",
    "\n",
    "$$then\\quad A \\cdot B = \\begin{pmatrix} \\vec{a_{1}} \\cdot \\vec{b_{1}} & \\vec{a_{1}} \\cdot \\vec{b_{2}} \\\\ \\vec{a_{2}} \\cdot \\vec{b_{1}} & \\vec{a_{2}} \\cdot \\vec{b_{2}} \\end{pmatrix} = \\begin{pmatrix} a_{11}b_{11}+a_{12}b_{21}+a_{13}b_{31} & a_{11}b_{12}+a_{12}b_{22}+a_{13}b_{32} \\\\ a_{21}b_{11}+a_{22}b_{21}+a_{23}b_{31} & a_{21}b_{12}+a_{22}b_{22}+a_{23}b_{32} \\end{pmatrix}$$"
   ]
  },
  {
   "cell_type": "markdown",
   "metadata": {},
   "source": [
    "注意上面的矩阵 `B` 必须进行转置才能与矩阵 `A` 进行点积运算，这可以通过 `numpy` 的 `T` 属性来实现。"
   ]
  },
  {
   "cell_type": "code",
   "execution_count": null,
   "metadata": {},
   "outputs": [],
   "source": [
    "print(B)\n",
    "print(B.T)\n",
    "print(A.dot(B.T))\n",
    "print(np.dot(A, B.T))"
   ]
  },
  {
   "cell_type": "markdown",
   "metadata": {},
   "source": [
    "### 矩阵与向量间点积"
   ]
  },
  {
   "cell_type": "markdown",
   "metadata": {},
   "source": [
    "由于向量可以看做只有一行或者只有一列的矩阵，所以矩阵和向量之间的点积运算也是矩阵点积的一种特例。下面的例子里可以看出，无论是矩阵点积向量还是反过来向量点积矩阵，`numpy` 会自动选择行向量还是列向量，确保符合矩阵点积的规则。"
   ]
  },
  {
   "cell_type": "code",
   "execution_count": null,
   "metadata": {},
   "outputs": [],
   "source": [
    "v = np.array([0.1, 0.2, 0.3])\n",
    "w = np.array([1, 4])"
   ]
  },
  {
   "cell_type": "code",
   "execution_count": null,
   "metadata": {},
   "outputs": [],
   "source": [
    "print(A.dot(v))\n",
    "print(np.dot(A, v))"
   ]
  },
  {
   "cell_type": "code",
   "execution_count": null,
   "metadata": {},
   "outputs": [],
   "source": [
    "print(v.dot(B.T))\n",
    "print(np.dot(v, B.T))"
   ]
  },
  {
   "cell_type": "code",
   "execution_count": null,
   "metadata": {},
   "outputs": [],
   "source": [
    "print(B.T.dot(w))\n",
    "print(np.dot(B.T, w))"
   ]
  },
  {
   "cell_type": "markdown",
   "metadata": {},
   "source": [
    "## 关于张量（*tensor*）"
   ]
  },
  {
   "cell_type": "markdown",
   "metadata": {},
   "source": [
    "在机器学习领域我们经常看到的另一个词是“张量（*tensor*）”，但通常它只是表示“任意维度数组”的一个说法，我们可以认为标量、向量和矩阵都是张量的特殊情况：标量是**秩**（*rank*）为 `0` 的张量，向量是秩为 `1` 的张量，矩阵是秩为 `2` 的张量。机器学习中我们会经常用到秩大于 `1` 的张量，或者我们就简单的称之为“多维数组”。所以在 `numpy` 中，我们用 `ndarray` 数组对象表示张量毫无问题，只要指定合适的秩（维度）即可。\n",
    "\n",
    "要说明的是，张量这个概念由来已久，它是现代数学的重要分支“微分几何”中诞生的概念，最早在19世纪末由意大利数学家格雷戈里奥·里奇-库尔巴斯托罗（*Gregorio Ricci Curbastro*）和他的学生图利奥·列维-齐维塔（*Tullio Levi-Civita*）发展出来，1915年被爱因斯坦应用于广义相对论之后逐渐成为数学和物理学中的重要工具，是电磁学、热力学、连续介质力学、广义相对论、量子场论等领域重要的数学基础。\n",
    "\n",
    "与前述机器学习中常见的“张量”概念不同，在微分几何和物理学中，张量有更多更复杂的特性，比如张量的坐标变换规则、张量的度量、张量的协变和逆变性等，是一个更加严谨和复杂的数学概念，而在计算机科学尤其是机器学习领域，我们就简单将其看成多维数组就可以了。"
   ]
  },
  {
   "cell_type": "markdown",
   "metadata": {},
   "source": [
    "## 通用操作"
   ]
  },
  {
   "cell_type": "markdown",
   "metadata": {},
   "source": [
    "下面我们来看一些 `numpy` 中的通用操作，它们不仅对一维的向量和二维的矩阵，对任意维度的 `ndarray` 数组都适用。"
   ]
  },
  {
   "cell_type": "markdown",
   "metadata": {},
   "source": [
    "### 创建数组"
   ]
  },
  {
   "cell_type": "markdown",
   "metadata": {},
   "source": [
    "我们经常需要快速创建一些数组，`numpy` 提供了一些函数来帮助我们创建一些特殊的数组，比如全是 `0` 或者全是 `1` 的数组，还有用随机数填充的数组等等。"
   ]
  },
  {
   "cell_type": "code",
   "execution_count": null,
   "metadata": {},
   "outputs": [],
   "source": [
    "C = np.zeros((3, 3))\n",
    "print(C)"
   ]
  },
  {
   "cell_type": "code",
   "execution_count": null,
   "metadata": {},
   "outputs": [],
   "source": [
    "C = np.ones((1, 4))\n",
    "print(C)"
   ]
  },
  {
   "cell_type": "markdown",
   "metadata": {},
   "source": [
    "当然也可以填充任意值，比如下面的例子。"
   ]
  },
  {
   "cell_type": "code",
   "execution_count": null,
   "metadata": {},
   "outputs": [],
   "source": [
    "C = np.full((3, 3), 7)\n",
    "print(C)"
   ]
  },
  {
   "cell_type": "markdown",
   "metadata": {},
   "source": [
    "下面这个 `eye()` 方法可以快速构造单位矩阵，即对角线为 `1` 其他位置都是 `0` 的矩阵。这个方法也能构造其他一些变种，但第一种用法最常见。"
   ]
  },
  {
   "cell_type": "code",
   "execution_count": null,
   "metadata": {},
   "outputs": [],
   "source": [
    "C = np.eye(3)\n",
    "print(C)\n",
    "C = np.eye(3, 4)\n",
    "print(C)\n",
    "C = np.eye(4, k=1)\n",
    "print(C)"
   ]
  },
  {
   "cell_type": "markdown",
   "metadata": {},
   "source": [
    "`numpy` 下面有个专门生成随机数据集的子包 `random`，里面提供了很多方法来快速构造包含随机数据的多维数组，详细可以参考[官方指南](https://numpy.org/doc/stable/reference/random/index.html)，下面是最简单的例子，用 $\\left [0,1\\right )$ 之间的随机数填充一个 $3\\times3$ 的矩阵。"
   ]
  },
  {
   "cell_type": "code",
   "execution_count": null,
   "metadata": {},
   "outputs": [],
   "source": [
    "C = np.random.random((3, 3))\n",
    "print(C)"
   ]
  },
  {
   "cell_type": "markdown",
   "metadata": {},
   "source": [
    "`numpy` 还提供了一个 `arange()` 方法，它的用法基本上和 Python 的内置函数 `range()` 一样，区别在于 `arange()` 支持浮点数，并且返回一个 `ndarray` 数组对象。"
   ]
  },
  {
   "cell_type": "code",
   "execution_count": null,
   "metadata": {},
   "outputs": [],
   "source": [
    "C = np.arange(0, 1, 0.2)\n",
    "print(C)"
   ]
  },
  {
   "cell_type": "markdown",
   "metadata": {},
   "source": [
    "### 高级索引"
   ]
  },
  {
   "cell_type": "markdown",
   "metadata": {},
   "source": [
    "除了常规的用多级下标来索引元素的方法（*basic indexing*），`numpy` 还支持一种高级索引（*advanced indexing*）的方法，这种方法可以用来快速选择数组中的一组离散的元素，要注意它返回的是一个新的数组，不是原数组的视图（对原数组数据的引用）。\n",
    "\n",
    "高级索引也称为“花式索引（*fancy indexing*）”。\n",
    "\n",
    "高级索引有两种方式：整数数组索引和布尔数组索引。先来看第一种，整数数组索引，这种高级索引也称为“花式索引（*fancy indexing*）”。"
   ]
  },
  {
   "cell_type": "code",
   "execution_count": null,
   "metadata": {},
   "outputs": [],
   "source": [
    "x = np.arange(10, 1, -1)\n",
    "print(x)\n",
    "print(np.array([x[3], x[3], x[1], x[8]]))\n",
    "print(x[[3, 3, 1, 8]])\n",
    "print(x[[3, 3, -3, -1]])\n",
    "print(x[np.array([3, 3, -3, -1])])"
   ]
  },
  {
   "cell_type": "markdown",
   "metadata": {},
   "source": [
    "从上面的例子可以看出，如果我们要从一个 `numpy` 数组中选取一些元素，可以直接把要选的元素的下标放进一个数组（如 `np.array([3, 3, 1, 8]])`），用这个数组做下标就可以从原数组中选出对应元素组成一个新的数组，也就是说，`x[np.array([3, 3, 1, 8])]` 和 `np.array([x[3], x[3], x[1], x[8]])` 是等价的。这里下标数组的元素可以重复，也可以是负数，负数表示从数组的末尾开始数。\n",
    "\n",
    "要注意一点，虽然 `x[[3, 3, -3, -1]]` 可以用而且输出结果和 `x[np.array([3, 3, -3, -1])]` 一样，但严格来说 `[3, 3, -3, -1]` 类型是普通列表，而 `numpy` 的高级索引要求 `ndarray`，这里会隐含一个类型转换，所以一般还是建议用 `np.array()` 来构造下标数组。\n",
    "\n",
    "下面看看多维数组的情况。"
   ]
  },
  {
   "cell_type": "code",
   "execution_count": null,
   "metadata": {},
   "outputs": [],
   "source": [
    "D = np.arange(1, 17).reshape((4, 4))\n",
    "print(D)\n",
    "print(D[np.array([0, -1])])"
   ]
  },
  {
   "cell_type": "markdown",
   "metadata": {},
   "source": [
    "对于多维数组，高级索引也可以有多个下标数组，每个下标数组对应一个维度，上面代码中只指定了一个下标数组，它对应第一个维度（这里是行），所以选出了第一行和最后一行。\n",
    "\n",
    "如果指定多个下标数组，那么它们的长度必须一致，高级索引会选出与它们长度相同个数的元素，这些元素的下标分别来自这些下标数组对应位置的元素，就像下面这个例子。"
   ]
  },
  {
   "cell_type": "code",
   "execution_count": null,
   "metadata": {},
   "outputs": [],
   "source": [
    "print(D[np.array([0, -1]), np.array([1, 2])])\n",
    "print(D[[0, 0, 1, 2], [0, 1, 0, 3]])"
   ]
  },
  {
   "cell_type": "markdown",
   "metadata": {},
   "source": [
    "如果下标数组中的下标越界，也会抛出 `IndexError` 异常。\n",
    "\n",
    "```python\n",
    "D[np.array([3, 4])]\n",
    "# -> IndexError: index 4 is out of bounds for axis 0 with size 4\n",
    "```"
   ]
  },
  {
   "cell_type": "markdown",
   "metadata": {},
   "source": [
    "如果我们指定的下标数组维度比原数组低，那就相当于只指定了原数组一个维度的下标，在下面的例子里，就是指定了某些行或者某些列。"
   ]
  },
  {
   "cell_type": "code",
   "execution_count": null,
   "metadata": {},
   "outputs": [],
   "source": [
    "print(D[[0, -1]])\n",
    "print(D[:,[1, 2]])"
   ]
  },
  {
   "cell_type": "markdown",
   "metadata": {},
   "source": [
    "上面代码中，第一个例子只指定了第一个维度（行），于是根据下标数组的值选出了第一和最后一行组成的一个新二维数组；第二个例子只指定了第二个维度（列），第一个维度用 `:` 表示全选（这是切片的语法，可以参考后面关于切片的章节），于是根据下标数组的值选出了第二和第三列组成的一个新二维数组。"
   ]
  },
  {
   "cell_type": "markdown",
   "metadata": {},
   "source": [
    "如果想选出某行或某列中某几个元素，可以利用广播的特性，指定某个下标数组时提供一个标量，`numpy` 会自动将其广播为一个大小合适的数组，比如下面的例子。"
   ]
  },
  {
   "cell_type": "code",
   "execution_count": null,
   "metadata": {},
   "outputs": [],
   "source": [
    "print(D[1, [0, -1]])\n",
    "print(D[[0, 0, 1, 2], -2])"
   ]
  },
  {
   "cell_type": "markdown",
   "metadata": {},
   "source": [
    "上面第一个例子选出了第2行中的第一个和最后一个元素，第二个例子则在倒数第二列按照第一个下标数组指定的下标选了四个元素（其中可以包含重复的选择）。"
   ]
  },
  {
   "cell_type": "markdown",
   "metadata": {},
   "source": [
    "下面我们来看第二种高级索引，布尔数组索引。"
   ]
  },
  {
   "cell_type": "code",
   "execution_count": null,
   "metadata": {},
   "outputs": [],
   "source": [
    "print(B)\n",
    "B > 0.15"
   ]
  },
  {
   "cell_type": "markdown",
   "metadata": {},
   "source": [
    "从上面的例子我们可以看到，`numpy` 的数组对象支持条件表达式，其结果不是一个布尔值而是一个布尔数组，这个数组的形状和原数组一样，只是里面的元素都是布尔值。我们可以用这个布尔数组作下标，就可以过滤原数组，只保留满足条件的元素（即对应布尔下标数组里为 `True` 的那些位置上的元素）。"
   ]
  },
  {
   "cell_type": "code",
   "execution_count": null,
   "metadata": {},
   "outputs": [],
   "source": [
    "B[B > 0.15]"
   ]
  },
  {
   "cell_type": "markdown",
   "metadata": {},
   "source": [
    "这里我们可以看到，返回的是一个一维数组，和原数组的形状无关，对这个数组的操作也不会改变原数组。\n",
    "\n",
    "但如果我们用下面这样的的方法对数组内容进行操作，会直接修改原数组中的元素，当然只有满足条件的元素才做被改变，其他元素不会。"
   ]
  },
  {
   "cell_type": "code",
   "execution_count": null,
   "metadata": {},
   "outputs": [],
   "source": [
    "B[B > 0.15] -= 0.15\n",
    "print(B)"
   ]
  },
  {
   "cell_type": "markdown",
   "metadata": {},
   "source": [
    "下面来看一个复杂一点的例子。"
   ]
  },
  {
   "cell_type": "code",
   "execution_count": null,
   "metadata": {},
   "outputs": [],
   "source": [
    "D = np.arange(35).reshape(5, 7)\n",
    "print(D)\n",
    "b = D > 20\n",
    "print(b)\n",
    "print(D[b])\n",
    "print(b[:, 5])\n",
    "print(D[b[:, 5]])"
   ]
  },
  {
   "cell_type": "markdown",
   "metadata": {},
   "source": [
    "上面例子中我们做了这几件事：\n",
    "1. 首先创建一个5行7列的矩阵 `D`；\n",
    "2. 用布尔表达式 `D > 20` 创建了一个布尔数组 `b`；\n",
    "3. 用 `b` 作为下标数组，可以选出 `D` 中所有大于20的元素，组成一个新的（一维）数组；\n",
    "4. 用 `b[:, 5]` 取出 `b` 的第6列，它包含5个元素；\n",
    "5. 用 `b[:, 5]` 作为下标数组，因为这个数组维度为 `1`，比原数组 `D` 维度低，所以相当于只指定了 `D` 的第一个维度（行）的下标，最后选出了 `D` 中后两行（对应 `b[:, 5]` 中为 `True` 的元素所在的行）组成的一个二维数组。\n",
    "\n",
    "请务必仔细体会上述第3和第5步的区别，也可以对照前面整数下标数组的类似例子。"
   ]
  },
  {
   "cell_type": "markdown",
   "metadata": {},
   "source": [
    "我们还可以混合使用两种高级索引，来完成一些复杂的操作。\n",
    "\n",
    "假定我们想从一个矩阵中选出所有行数字和为偶数的行，然后选出其中第1和第3列的元素，组成一个新的矩阵，该如何进行呢？"
   ]
  },
  {
   "cell_type": "code",
   "execution_count": null,
   "metadata": {},
   "outputs": [],
   "source": [
    "D = np.arange(12).reshape(4, 3)\n",
    "print(D)\n",
    "rows = (D.sum(-1) % 2) == 0\n",
    "print(rows)\n",
    "columns = [0, 2]\n",
    "print(D[rows, columns])"
   ]
  },
  {
   "cell_type": "markdown",
   "metadata": {},
   "source": [
    "上面的代码中，我们构造了一个布尔下标数组 `rows` 来筛选行坐标，然后用一个整数下标数组 `columns` 来选出列坐标，看上去很不错，但最后结果却让人大失所望。这是因为 `D[[False, True, False, True, False]]` 选出了第2和第4行，等价于 `D[[1, 3]]`，再结合列下标选择的数组，就是 `D[[1, 3], [0, 2]]`，这等价于 `np.array([D[1, 0], D[3, 2]])`，所以结果是一个只包含2个元素的一维数组。\n",
    "\n",
    "要选出我们想要的两行两列的子矩阵实际上需要四个坐标才行，那么如何从上面两个下标数组出发构造出这四个坐标呢？\n",
    "\n",
    "由于这是一个非常常见的需求场景，所以 `numpy` 当然提供了标准而又优雅的解决方案，这就是 `ix_()` 函数，它可以帮助我们快速构造出我们需要的行和列对应的所有坐标，比如 `a[np.ix_([1,3],[2,5])]` 就会返回我们想要的第2第4行和第3第6列组成的2行2列子矩阵 `[[a[1,2] a[1,5]], [a[3,2] a[3,5]]]`。\n",
    "\n",
    "如此我们可以用下面的代码来实现我们的需求。"
   ]
  },
  {
   "cell_type": "code",
   "execution_count": null,
   "metadata": {},
   "outputs": [],
   "source": [
    "D = np.arange(12).reshape(4, 3)\n",
    "print(D)\n",
    "rows = (D.sum(-1) % 2) == 0\n",
    "print(rows)\n",
    "columns = [0, 2]\n",
    "print(np.ix_(rows, columns))\n",
    "print(D[np.ix_(rows, columns)])"
   ]
  },
  {
   "cell_type": "markdown",
   "metadata": {},
   "source": [
    "实际上，`numpy` 官方文档中还有很多[关于高级索引的例子](https://numpy.org/doc/stable/user/basics.indexing.html#advanced-indexing)，值得好好研习。"
   ]
  },
  {
   "cell_type": "markdown",
   "metadata": {},
   "source": [
    "高级索引还可以与切片（*slice*）结合起来使用，提供更灵活强大的索引能力，具体可以参考下面关于切片的章节。"
   ]
  },
  {
   "cell_type": "markdown",
   "metadata": {},
   "source": [
    "### 切片"
   ]
  },
  {
   "cell_type": "markdown",
   "metadata": {},
   "source": [
    "`numpy` 支持与 Python 列表类似的切片（*slice*），但更强大。\n",
    "\n",
    "先来看看基本用法，和普通列表基本一样。"
   ]
  },
  {
   "cell_type": "code",
   "execution_count": null,
   "metadata": {},
   "outputs": [],
   "source": [
    "D = np.arange(10)\n",
    "print(D)\n",
    "print(D[4:8])\n",
    "print(D[-5:-2])\n",
    "print(D[6:1:-2])\n",
    "print(D[::-1])"
   ]
  },
  {
   "cell_type": "markdown",
   "metadata": {},
   "source": [
    "当然也可以给切片赋值，但和普通列表有两点不同：\n",
    "1. `numpy` 的切片是原数组的一个视图，而不是一个新的数组，所以对切片的修改会直接影响原数组；\n",
    "2. `numpy` 支持广播（*broadcasting*），所以赋值表达式右边可以是标量，也可以是一个数组，只要能通过广播匹配左边的形状就行。"
   ]
  },
  {
   "cell_type": "code",
   "execution_count": null,
   "metadata": {},
   "outputs": [],
   "source": [
    "D1 = D[3:8]\n",
    "print(D1)\n",
    "D1[2:] = [100, 200, 300]\n",
    "print(D1)\n",
    "print(D)\n",
    "D1[2:] = 100 # broadcasting here\n",
    "print(D1)\n",
    "print(D)"
   ]
  },
  {
   "cell_type": "markdown",
   "metadata": {},
   "source": [
    "下面的例子展示了多维的情况，诸如 `D[:2, 1:3]` 的切片表示取 `D` 的前两行、第 `2` 列到第 `3` 列的元素。\n",
    "\n",
    "另外请注意赋值时的广播机制是如何工作的。"
   ]
  },
  {
   "cell_type": "code",
   "execution_count": null,
   "metadata": {},
   "outputs": [],
   "source": [
    "D = np.arange(1, 17).reshape((4, 4))\n",
    "print(D)\n",
    "D1 = D[:2, 1:3]\n",
    "print(D1)\n",
    "print(D1.shape)\n",
    "D1 = D[1:, 1:]\n",
    "print(D1)\n",
    "D1[1:, 1:] = [100, 200] # broadcasting here\n",
    "print(D1)\n",
    "print(D)"
   ]
  },
  {
   "cell_type": "markdown",
   "metadata": {},
   "source": [
    "如果给切片赋值的时候指定了尺寸无法匹配的数组（即使广播也无能为力），比如下面这样，那么会有 `ValueError` 运行时错误。这个行为比普通列表要合理很多。\n",
    "\n",
    "```python\n",
    "D1[2:] = [100, 200, 300, 400]\n",
    "# -> ValueError: could not broadcast input array from shape (4,) into shape (3,)\n",
    "```"
   ]
  },
  {
   "cell_type": "markdown",
   "metadata": {},
   "source": [
    "如果不希望对切片的处理影响到原数组，可以使用 `copy()` 方法来创建一个新的数组。"
   ]
  },
  {
   "cell_type": "code",
   "execution_count": null,
   "metadata": {},
   "outputs": [],
   "source": [
    "D = np.arange(1, 17).reshape((4, 4))\n",
    "print(D)\n",
    "D1 = D[1:, 1:].copy() # make a copy rather than a view\n",
    "print(D1)\n",
    "D1[1:, 1:] = [100, 200] # broadcasting here\n",
    "print(D1)\n",
    "print(D)"
   ]
  },
  {
   "cell_type": "markdown",
   "metadata": {},
   "source": [
    "一个常见的用法是指定行或者列进行切片，可以指定一行或者一列，也可以指定连续的几行或几列。"
   ]
  },
  {
   "cell_type": "code",
   "execution_count": null,
   "metadata": {},
   "outputs": [],
   "source": [
    "print(D)\n",
    "print(D[1, :])\n",
    "print(D[1:2, :])\n",
    "print(D[1:3, :])"
   ]
  },
  {
   "cell_type": "code",
   "execution_count": null,
   "metadata": {},
   "outputs": [],
   "source": [
    "print(D)\n",
    "print(D[:, 2])\n",
    "print(D[:, 2:3])"
   ]
  },
  {
   "cell_type": "markdown",
   "metadata": {},
   "source": [
    "如果和前面的“高级索引（*advanced indexing*）”结合还可以用一个数组来指定离散的几行或几列进行切片。"
   ]
  },
  {
   "cell_type": "code",
   "execution_count": null,
   "metadata": {},
   "outputs": [],
   "source": [
    "print(D[[0, 2], 1:3])\n",
    "print(D[:, [1, 3]])"
   ]
  },
  {
   "cell_type": "markdown",
   "metadata": {},
   "source": [
    "对于上面的代码，要特别注意：**因为使用了高级索引，所以这种操作返回的是一个新的数组，不是原数组的视图，这与前面的普通切片是不同的**。\n",
    "\n",
    "下面的代码可以对比用到高级索引和不用高级索引的这一显著差异。"
   ]
  },
  {
   "cell_type": "code",
   "execution_count": null,
   "metadata": {},
   "outputs": [],
   "source": [
    "D = np.arange(1, 17).reshape((4, 4))\n",
    "D1 = D[1:3, :]\n",
    "print(D1)\n",
    "D1[1, 1] = 100\n",
    "print(D1)\n",
    "print(D)\n",
    "\n",
    "D = np.arange(1, 17).reshape((4, 4))\n",
    "D2 = D[[1, 3], 1:3]\n",
    "print(D2)\n",
    "D2[1, 1] = 100\n",
    "print(D2)\n",
    "print(D)"
   ]
  },
  {
   "cell_type": "markdown",
   "metadata": {},
   "source": [
    "### 变形"
   ]
  },
  {
   "cell_type": "markdown",
   "metadata": {},
   "source": [
    "`numpy` 提供了对数组进行变形操作的方法，包括**转置**（*transpose*）、**重塑**（*reshape*）、**拼接**（*concatenate*）、**扁平化**（*flatten*）等。"
   ]
  },
  {
   "cell_type": "markdown",
   "metadata": {},
   "source": [
    "转置（*transpose*）是常见的操作，它可以把矩阵的行和列互换，即把矩阵的第 `i` 行第 `j` 列的元素放到第 `j` 行第 `i` 列，这个操作可以通过 `T` 属性来实现。"
   ]
  },
  {
   "cell_type": "code",
   "execution_count": null,
   "metadata": {},
   "outputs": [],
   "source": [
    "print(A)\n",
    "print(A.T)"
   ]
  },
  {
   "cell_type": "markdown",
   "metadata": {},
   "source": [
    "`flatten` 方法可以把一个多维数组“扁平化”，即把多维数组变成一个一维数组。这个操作有若干种不同的模式选项（'C'模式还是'Fortran'模式等），具体可以参考[官方文档](https://numpy.org/doc/stable/reference/generated/numpy.ndarray.flatten.html)。"
   ]
  },
  {
   "cell_type": "code",
   "execution_count": null,
   "metadata": {},
   "outputs": [],
   "source": [
    "C = B.flatten()\n",
    "print(C)"
   ]
  },
  {
   "cell_type": "markdown",
   "metadata": {},
   "source": [
    "`reshape` 方法可以把一个数组变形成指定的形状，但变形前后的元素个数必须一致，否则会报错。这个操作也有若干种与 `flatten` 类似的模式选项，请参考[官方文档](https://numpy.org/doc/stable/reference/generated/numpy.reshape.html)。"
   ]
  },
  {
   "cell_type": "code",
   "execution_count": null,
   "metadata": {},
   "outputs": [],
   "source": [
    "p = np.arange(0, 1, 0.1)\n",
    "print(p)\n",
    "p = p.reshape((5, 2))\n",
    "print(p)"
   ]
  },
  {
   "cell_type": "code",
   "execution_count": null,
   "metadata": {},
   "outputs": [],
   "source": [
    "q = np.arange(1, 2, 0.1).reshape((5, 2))\n",
    "print(q)"
   ]
  },
  {
   "cell_type": "markdown",
   "metadata": {},
   "source": [
    "`concatenate` 方法可以把两个数组沿指定的轴拼接在一起。默认是沿着第一个维度（行）拼接，即增加行数，如果要沿着列拼接，可以指定 `axis=1`，更高维度的数组也可以指定其他的 `axis` 参数。"
   ]
  },
  {
   "cell_type": "code",
   "execution_count": null,
   "metadata": {},
   "outputs": [],
   "source": [
    "print(np.concatenate((p, q)))\n",
    "print(np.concatenate((p, q), axis=1))"
   ]
  },
  {
   "cell_type": "markdown",
   "metadata": {},
   "source": [
    "### 函数"
   ]
  },
  {
   "cell_type": "markdown",
   "metadata": {},
   "source": [
    "`numpy` 提供了两类数学函数：一类是对数组中的每个元素进行操作的函数，比如三角函数、平方根函数、对数函数等，这类函数会返回与原数组同构的一个新数组；另一类是对整个数组或沿指定坐标轴进行操作的函数，比如求和、积、最大值、最小值等，这类函数会返回一个标量或者一个降维后的数组，具体参考下面的例子。"
   ]
  },
  {
   "cell_type": "markdown",
   "metadata": {},
   "source": [
    "`numpy` 中不少操作都是和“方向”（坐标轴）有关的，我们可以通过 `axis` 参数来指定沿着哪个坐标轴进行操作，`axis` 参数的取值范围是 `0` 到 `n-1`，其中 `n` 是数组的维度。比如 `axis=0` 表示沿着第一个维度（行）进行操作，也就是从上往下的方向，而 `axis=1` 表示沿着第二个维度（列）进行操作，也就是从左往右的方向。如果没有指明 `axis` 参数，那么默认是对整个数组进行操作，或者就是 `axis=0`。\n",
    "\n",
    "后面我们会看到，`axis` 参数在很多 `numpy` 的函数中都有用到，所以要熟练掌握。"
   ]
  },
  {
   "cell_type": "code",
   "execution_count": null,
   "metadata": {},
   "outputs": [],
   "source": [
    "print(np.sin(x))\n",
    "print(np.sqrt(A))"
   ]
  },
  {
   "cell_type": "code",
   "execution_count": null,
   "metadata": {},
   "outputs": [],
   "source": [
    "print(A)\n",
    "print(np.sum(A))\n",
    "print(np.sum(A, axis=0))\n",
    "print(np.sum(A, axis=1))"
   ]
  },
  {
   "cell_type": "markdown",
   "metadata": {},
   "source": [
    "### 过滤"
   ]
  },
  {
   "cell_type": "markdown",
   "metadata": {},
   "source": [
    "`numpy` 提供很多对数组进行过滤（*filter*）的方法，前面“高级索引”中的布尔下标数组就是一种对数组进行条件过滤的方便手段：通过布尔表达式生成一个布尔数组，然后用这个布尔数组作为下标数组，就可以选出原数组中满足条件的元素，或者对这些满足条件的元素做操作。\n",
    "\n",
    "高级索引一节我们已经看过不少这样的例子，下面来试试稍微高级一点的例子。"
   ]
  },
  {
   "cell_type": "code",
   "execution_count": null,
   "metadata": {},
   "outputs": [],
   "source": [
    "D = np.array([[0, 1], [1, 1], [2, 2]])\n",
    "print(D)\n",
    "rowsum = D.sum(-1)\n",
    "print(rowsum)\n",
    "print(D[rowsum <= 2, :])"
   ]
  },
  {
   "cell_type": "markdown",
   "metadata": {},
   "source": [
    "上面的代码实现了从数组 `D` 中选出所有数字和小于 `2` 的行的操作。\n",
    "\n",
    "之前我们看到的例子都是基于原数组本身的条件来进行筛选，但上面这个例子中，我们构造了一个中间数组 `rowsum`，然后用它来创建布尔数组，这种方法在实际应用中也是常见的。\n",
    "\n",
    "另外上面代码中调用了 `sum()` 方法，我们希望对最内层的元素求和，所以制定了 `axis=-1` 参数（在这个二维数组的例子中，用 `axis=1` 也是等价的）。"
   ]
  },
  {
   "cell_type": "markdown",
   "metadata": {},
   "source": [
    "有时我们过滤想得到的不是满足条件的元素，而是它们的下标，这时可以用 `argwhere()` 方法，它会返回一个数组，里面包含所有满足条件的元素的下标。"
   ]
  },
  {
   "cell_type": "code",
   "execution_count": null,
   "metadata": {},
   "outputs": [],
   "source": [
    "np.argwhere(B > 0.15)"
   ]
  },
  {
   "cell_type": "markdown",
   "metadata": {},
   "source": [
    "如果我们想根据某个条件来对数组中的元素做不同的处理，可以使用 `numpy` 的 `where()` 方法。\n",
    "\n",
    "这个方法接受三个参数，第一个参数是条件表达式，第二个参数是满足条件时的处理方法，第三个参数是不满足条件时的处理方法。这个方法会返回一个新的数组，里面的元素是根据条件表达式来选择的，原数组不会受到影响。"
   ]
  },
  {
   "cell_type": "markdown",
   "metadata": {},
   "source": [
    "`where()` 方法的第一个参数本质上是一个布尔数组，与其中拿来比较的数组同构，即形状一样，元素个数一样，只是里面的元素都是布尔值。这个布尔数组可以是手动构造的，也可以是通过条件表达式得到的。然后 `where()` 方法就根据这个布尔数组每个位置上是 `True` 还是 `False` 来选择第二个或者第三个参数中的对应位置上的元素。\n",
    "\n",
    "`where()` 方法的第二个和第三个参数可以是标量或不同维度的数组，但需要支持广播，确保 `where()` 方法能返回正确尺寸的数组（与第一个参数中的数组同构）。"
   ]
  },
  {
   "cell_type": "code",
   "execution_count": null,
   "metadata": {},
   "outputs": [],
   "source": [
    "D = np.arange(9).reshape((3, 3))\n",
    "print(D)\n",
    "print(np.where(D < 4, -1, 100))"
   ]
  },
  {
   "cell_type": "markdown",
   "metadata": {},
   "source": [
    "上面的代码把数组 `D` 中小于 `4` 的元素都替换成 `-1`，其它则替换成 `100`。这里后两个参数都是标量，它们都被广播成了和 `D` 同样的形状，然后根据第一个参数的条件来选择对应位置的值。"
   ]
  },
  {
   "cell_type": "code",
   "execution_count": null,
   "metadata": {},
   "outputs": [],
   "source": [
    "print(np.where(D < 4, D * 10, D))"
   ]
  },
  {
   "cell_type": "markdown",
   "metadata": {},
   "source": [
    "这次我们把数组 `D` 中小于 `4` 的元素都乘上 `10`，其它的则保持不变。这里后两个参数都是数组，是 `D` 或者与 `D` 有关的运算结果，都是或者可以广播成和 `D` 同样形状的数组。"
   ]
  },
  {
   "cell_type": "markdown",
   "metadata": {},
   "source": [
    "前面我们说了 `where()` 的第一个参数本质是布尔数组，这个布尔数组可以通过条件表达式得到，也可以手动构造。如果我们手动构造这个布尔数组，那么它的形状必须和原数组一样，元素个数也一样，只是里面的元素都是布尔值。"
   ]
  },
  {
   "cell_type": "code",
   "execution_count": null,
   "metadata": {},
   "outputs": [],
   "source": [
    "np.where([[True, False], [True, True]],\n",
    "         [[1, 2], [3, 4]],\n",
    "         [[9, 8], [7, 6]])"
   ]
  },
  {
   "cell_type": "markdown",
   "metadata": {},
   "source": [
    "上面的例子中，我们通过手工构建的布尔数组从后两个数组中挑选相应的元素组成了结果数组。"
   ]
  },
  {
   "cell_type": "code",
   "execution_count": null,
   "metadata": {},
   "outputs": [],
   "source": [
    "x, y = np.ogrid[:3, :4]\n",
    "np.where(x < y, x, 10 + y)"
   ]
  },
  {
   "cell_type": "markdown",
   "metadata": {},
   "source": [
    "上面的例子中，`ogrid()` 方法创建一个长度 `3` 的列向量和一个长度 `4` 的行向量，`where()` 会先把它们广播成一个 $3\\times4$ 的矩阵，然后根据条件 `x < y` 生成布尔数组，对 `True` 的情况选择广播后 `x` 中的值，对 `False` 的情况选择广播后 `y` 中的值加上 `10`。"
   ]
  },
  {
   "cell_type": "markdown",
   "metadata": {},
   "source": [
    "从最后这个例子我们可以看出，`numpy` 的广播功能非常强大，但也会给初学者带来相当的思维负担，这个没有捷径可走，只有多用多练才能熟练掌握。"
   ]
  },
  {
   "cell_type": "markdown",
   "metadata": {},
   "source": [
    "## 广播（*broadcasting*）"
   ]
  },
  {
   "cell_type": "markdown",
   "metadata": {},
   "source": [
    "前面我们已经看到了很多广播（*broadcasting*）的例子，这一节我们来了解一下 `numpy` 广播的机制。"
   ]
  },
  {
   "cell_type": "markdown",
   "metadata": {},
   "source": [
    "广播的本质是 `numpy` 自动帮你把形状不同的数组扩张成一致形状，这样就可以避免很多繁琐的手工操作，让你的代码更简洁、更易读。\n",
    "\n",
    "比如，我们想把一个矩阵和一个向量进行相加的运算，这实际上是什么意思呢？一般来说只有两种可能，要么是让矩阵的每一行都和这个向量相加，要么是让矩阵的每一列都和这个向量相加，其他的定义都是没有意义的。而 `numpy` 会自动帮你选择合适的方式，然后讲向量自动扩张成和矩阵一样的形状，然后就可以进行运算了，这就是广播的魅力。"
   ]
  },
  {
   "cell_type": "code",
   "execution_count": null,
   "metadata": {},
   "outputs": [],
   "source": [
    "X = np.arange(12).reshape(4, 3)\n",
    "u = np.array([1, 0, 1])\n",
    "print(X)\n",
    "print(u)"
   ]
  },
  {
   "cell_type": "markdown",
   "metadata": {},
   "source": [
    "我们有几种方法来做这个加法，比如我们可以自己写循环。"
   ]
  },
  {
   "cell_type": "code",
   "execution_count": null,
   "metadata": {},
   "outputs": [],
   "source": [
    "Y = np.empty_like(X)\n",
    "for i in range(4):\n",
    "    Y[i, :] = X[i, :] + u\n",
    "print(Y)"
   ]
  },
  {
   "cell_type": "markdown",
   "metadata": {},
   "source": [
    "我们还可以自己从向量出发构造矩阵，然后做运算。"
   ]
  },
  {
   "cell_type": "code",
   "execution_count": null,
   "metadata": {},
   "outputs": [],
   "source": [
    "U = np.tile(u, [4, 1])\n",
    "print(U)\n",
    "Y = X + U\n",
    "print(Y)"
   ]
  },
  {
   "cell_type": "markdown",
   "metadata": {},
   "source": [
    "但其实 `numpy` 会自动帮我们做这些事情，我们只需要简单地写出我们想要的运算即可，`numpy` 会帮我们做上面那些事情。"
   ]
  },
  {
   "cell_type": "code",
   "execution_count": null,
   "metadata": {},
   "outputs": [],
   "source": [
    "print(X + u)"
   ]
  },
  {
   "cell_type": "markdown",
   "metadata": {},
   "source": [
    "如果我们要加的是一个列向量，广播机制也能自动识别出来，做出正确的扩张操作。"
   ]
  },
  {
   "cell_type": "code",
   "execution_count": null,
   "metadata": {},
   "outputs": [],
   "source": [
    "v = np.array([[1, 0, 1, 1]]).T\n",
    "print(X + v)"
   ]
  },
  {
   "cell_type": "markdown",
   "metadata": {},
   "source": [
    "下面我们来看一组矩阵和向量甚至标量之间借助广播进行运算的例子，以加强对这个概念的理解。"
   ]
  },
  {
   "cell_type": "markdown",
   "metadata": {},
   "source": [
    "标量被看做是 `shape` 为 `()` 的数组，所以可以和任何数组进行广播运算。"
   ]
  },
  {
   "cell_type": "code",
   "execution_count": null,
   "metadata": {},
   "outputs": [],
   "source": [
    "M = np.arange(1, 7).reshape(2, 3)\n",
    "print(M)\n",
    "print(M * 2)"
   ]
  },
  {
   "cell_type": "markdown",
   "metadata": {},
   "source": [
    "一个列向量和一个行向量可以直接相乘，这是因为 `numpy` 会自动把它们扩张成一个矩阵，然后再做运算。"
   ]
  },
  {
   "cell_type": "code",
   "execution_count": null,
   "metadata": {},
   "outputs": [],
   "source": [
    "v1 = np.array([1, 2, 3])\n",
    "v2 = np.array([4, 5])\n",
    "\n",
    "print(np.reshape(v1, (3, 1)) * v2)"
   ]
  },
  {
   "cell_type": "markdown",
   "metadata": {},
   "source": [
    "矩阵可以和向量相加，我们可以直接相加，这样是将向量与矩阵的每一行相加，广播帮助我们自动扩张向量的形状。"
   ]
  },
  {
   "cell_type": "code",
   "execution_count": null,
   "metadata": {},
   "outputs": [],
   "source": [
    "print(M + v1)"
   ]
  },
  {
   "cell_type": "markdown",
   "metadata": {},
   "source": [
    "如果我们想把向量垂直起来与矩阵的每一列相加，该如何操作呢？我们可以用 `reshape()` 方法来改变向量的形状，然后再相加，也可以转置矩阵、相加再把矩阵转回去。"
   ]
  },
  {
   "cell_type": "code",
   "execution_count": null,
   "metadata": {},
   "outputs": [],
   "source": [
    "print(M + v2.reshape(2, 1))\n",
    "print((M.T + v2).T)"
   ]
  },
  {
   "cell_type": "markdown",
   "metadata": {},
   "source": [
    "关于 `numpy` 广播（*broadcasting*）的具体机制，尤其是其对齐规则，`scipy` 的老文档中有一篇[图文并茂的解释](https://scipy.github.io/old-wiki/pages/EricsBroadcastingDoc)值得一读。\n",
    "\n",
    "`numpy` 中绝大部分函数都支持广播，这些函数被称为 *universal function (ufunc)*，官方文档有这些 *ufunc* 的[列表](https://numpy.org/doc/stable/reference/ufuncs.html)可供参考。"
   ]
  },
  {
   "cell_type": "markdown",
   "metadata": {},
   "source": [
    "## 附：其他库"
   ]
  },
  {
   "cell_type": "markdown",
   "metadata": {},
   "source": [
    "### 科学计算 scipy"
   ]
  },
  {
   "cell_type": "markdown",
   "metadata": {},
   "source": [
    "`numpy` 提供了一个强大和坚实的数据基础设施，也提供了最常用的一些计算和处理函数及机制，但大量科学计算的具体实现就不适合放在 `numpy` 库里了，这部分的大量实现可以在同一个团队开发维护的 `scipy` 库中找到。"
   ]
  },
  {
   "cell_type": "markdown",
   "metadata": {},
   "source": [
    "比如下面的代码，就是用 `scipy` 库中的 `spatial.distance` 子模块来计算给定点的欧几里得距离矩阵。"
   ]
  },
  {
   "cell_type": "code",
   "execution_count": null,
   "metadata": {},
   "outputs": [],
   "source": [
    "points = np.array([[0, 1], [1, 0], [2, 0]])\n",
    "\n",
    "from scipy.spatial.distance import pdist, squareform\n",
    "D = pdist(points, 'euclidean')\n",
    "print(squareform(D))"
   ]
  },
  {
   "cell_type": "markdown",
   "metadata": {},
   "source": [
    "### 数据处理 pandas"
   ]
  },
  {
   "cell_type": "markdown",
   "metadata": {},
   "source": [
    "`pandas` 是另一个非常重要的数据处理库，它提供了一个名为 `DataFrame` 的数据结构，这个数据结构是建立在 `numpy` 的 `ndarray` 数组之上的，但提供了更多的功能和更方便的接口，比如更灵活的索引、更方便的数据导入导出、更强大的数据处理和分析功能等等。"
   ]
  },
  {
   "cell_type": "markdown",
   "metadata": {},
   "source": [
    "### 机器学习 scikit-learn"
   ]
  },
  {
   "cell_type": "markdown",
   "metadata": {},
   "source": [
    "`scikit-learn` 是一个非常流行的机器学习库，它提供了大量的机器学习算法的实现，包括分类、回归、聚类、降维、模型选择、预处理等等，而且提供了非常方便的接口和工具，让你可以很容易地用这些算法来解决实际问题。"
   ]
  },
  {
   "cell_type": "markdown",
   "metadata": {},
   "source": [
    "### 深度学习 pytorch"
   ]
  },
  {
   "cell_type": "markdown",
   "metadata": {},
   "source": [
    "`pytorch` 是一个非常流行的深度学习库，它提供了一个名为 `Tensor` 的数据结构，这个数据结构和 `numpy` 的 `ndarray` 数组非常类似，但提供了更多的功能和更方便的接口，比如更好的 GPU 支持、更方便的自动微分、更灵活的模型定义等等。"
   ]
  }
 ],
 "metadata": {
  "kernelspec": {
   "display_name": "jupyter",
   "language": "python",
   "name": "python3"
  },
  "language_info": {
   "codemirror_mode": {
    "name": "ipython",
    "version": 3
   },
   "file_extension": ".py",
   "mimetype": "text/x-python",
   "name": "python",
   "nbconvert_exporter": "python",
   "pygments_lexer": "ipython3",
   "version": "3.11.9"
  }
 },
 "nbformat": 4,
 "nbformat_minor": 4
}
